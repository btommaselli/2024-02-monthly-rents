{
 "cells": [
  {
   "cell_type": "code",
   "execution_count": 1,
   "id": "8096e7f7",
   "metadata": {},
   "outputs": [
    {
     "data": {
      "text/plain": [
       "25.0"
      ]
     },
     "execution_count": 1,
     "metadata": {},
     "output_type": "execute_result"
    }
   ],
   "source": [
    "700 / (900 + 1_200 + 700) * 100"
   ]
  },
  {
   "cell_type": "code",
   "execution_count": 18,
   "id": "dae09254",
   "metadata": {},
   "outputs": [],
   "source": [
    "\n",
    "alfred_monthly_23 = 900\n",
    "fatima_monthly_23 = 1_200\n",
    "trina_monthly_23 = 700"
   ]
  },
  {
   "cell_type": "code",
   "execution_count": 19,
   "id": "0c8e8a59",
   "metadata": {},
   "outputs": [],
   "source": [
    "## can also assign like this:\n",
    "alfred_m, fatima_m, trina_m = 900, 1_200, 700"
   ]
  },
  {
   "cell_type": "code",
   "execution_count": 21,
   "id": "66a35175",
   "metadata": {
    "scrolled": true
   },
   "outputs": [
    {
     "data": {
      "text/plain": [
       "900"
      ]
     },
     "execution_count": 21,
     "metadata": {},
     "output_type": "execute_result"
    }
   ],
   "source": [
    "## call variables\n",
    "alfred_m\n",
    "# fatima_monthly_23\n",
    "# trina_m"
   ]
  },
  {
   "cell_type": "code",
   "execution_count": 22,
   "id": "b4201f01",
   "metadata": {},
   "outputs": [
    {
     "data": {
      "text/plain": [
       "25.0"
      ]
     },
     "execution_count": 22,
     "metadata": {},
     "output_type": "execute_result"
    }
   ],
   "source": [
    "## calculate trina's share using variables\n",
    "trina_monthly_23 / (alfred_monthly_23 + fatima_monthly_23 + trina_monthly_23) * 100"
   ]
  },
  {
   "cell_type": "code",
   "execution_count": 25,
   "id": "0950eeb2",
   "metadata": {},
   "outputs": [
    {
     "data": {
      "text/plain": [
       "25.0"
      ]
     },
     "execution_count": 25,
     "metadata": {},
     "output_type": "execute_result"
    }
   ],
   "source": [
    "## place result into in variable\n",
    "trina_share_23 = trina_monthly_23 / (alfred_monthly_23 + fatima_monthly_23 + trina_monthly_23) * 100\n",
    "trina_share_23"
   ]
  },
  {
   "cell_type": "code",
   "execution_count": 26,
   "id": "9d77fee2",
   "metadata": {},
   "outputs": [
    {
     "data": {
      "text/plain": [
       "25.0"
      ]
     },
     "execution_count": 26,
     "metadata": {},
     "output_type": "execute_result"
    }
   ],
   "source": [
    "## easier to read\n",
    "trina_share_23 = \\\n",
    "trina_monthly_23 / (alfred_monthly_23 +\\\n",
    "                    fatima_monthly_23 +\\\n",
    "                    trina_monthly_23) * 100\n"
   ]
  },
  {
   "cell_type": "code",
   "execution_count": 28,
   "id": "4dd0aa8c",
   "metadata": {},
   "outputs": [
    {
     "data": {
      "text/plain": [
       "(25.0, 900, 1200)"
      ]
     },
     "execution_count": 28,
     "metadata": {},
     "output_type": "execute_result"
    }
   ],
   "source": [
    "## call it\n",
    "trina_share_23, alfred_monthly_23, fatima_monthly_23"
   ]
  },
  {
   "cell_type": "code",
   "execution_count": null,
   "id": "0a12956f",
   "metadata": {},
   "outputs": [],
   "source": []
  }
 ],
 "metadata": {
  "kernelspec": {
   "display_name": "Python 3 (ipykernel)",
   "language": "python",
   "name": "python3"
  },
  "language_info": {
   "codemirror_mode": {
    "name": "ipython",
    "version": 3
   },
   "file_extension": ".py",
   "mimetype": "text/x-python",
   "name": "python",
   "nbconvert_exporter": "python",
   "pygments_lexer": "ipython3",
   "version": "3.11.5"
  }
 },
 "nbformat": 4,
 "nbformat_minor": 5
}
