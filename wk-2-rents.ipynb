{
 "cells": [
  {
   "cell_type": "code",
   "execution_count": 1,
   "id": "503fba88",
   "metadata": {},
   "outputs": [
    {
     "data": {
      "text/plain": [
       "25.0"
      ]
     },
     "execution_count": 1,
     "metadata": {},
     "output_type": "execute_result"
    }
   ],
   "source": [
    "700 / (900 + 1_200 + 700) * 100"
   ]
  },
  {
   "cell_type": "code",
   "execution_count": 2,
   "id": "83b0d5a0",
   "metadata": {},
   "outputs": [],
   "source": [
    "\n",
    "alfred_monthly_23 = 900\n",
    "fatima_monthly_23 = 1_200\n",
    "trina_monthly_23 = 700"
   ]
  },
  {
   "cell_type": "code",
   "execution_count": 3,
   "id": "c83339a6",
   "metadata": {},
   "outputs": [],
   "source": [
    "## can also assign like this:\n",
    "alfred_m, fatima_m, trina_m = 900, 1_200, 700"
   ]
  },
  {
   "cell_type": "code",
   "execution_count": 4,
   "id": "04c146e9",
   "metadata": {
    "scrolled": true
   },
   "outputs": [
    {
     "data": {
      "text/plain": [
       "900"
      ]
     },
     "execution_count": 4,
     "metadata": {},
     "output_type": "execute_result"
    }
   ],
   "source": [
    "## call variables\n",
    "alfred_m\n",
    "# fatima_monthly_23\n",
    "# trina_m"
   ]
  },
  {
   "cell_type": "code",
   "execution_count": 5,
   "id": "2360a652",
   "metadata": {},
   "outputs": [
    {
     "data": {
      "text/plain": [
       "25.0"
      ]
     },
     "execution_count": 5,
     "metadata": {},
     "output_type": "execute_result"
    }
   ],
   "source": [
    "## calculate trina's share using variables\n",
    "trina_monthly_23 / (alfred_monthly_23 + fatima_monthly_23 + trina_monthly_23) * 100"
   ]
  },
  {
   "cell_type": "code",
   "execution_count": 6,
   "id": "37bfb8ce",
   "metadata": {},
   "outputs": [
    {
     "data": {
      "text/plain": [
       "25.0"
      ]
     },
     "execution_count": 6,
     "metadata": {},
     "output_type": "execute_result"
    }
   ],
   "source": [
    "## place result into in variable\n",
    "trina_share_23 = trina_monthly_23 / (alfred_monthly_23 + fatima_monthly_23 + trina_monthly_23) * 100\n",
    "trina_share_23"
   ]
  },
  {
   "cell_type": "code",
   "execution_count": 7,
   "id": "cd73c241",
   "metadata": {},
   "outputs": [],
   "source": [
    "## easier to read\n",
    "trina_share_23 = \\\n",
    "trina_monthly_23 / (alfred_monthly_23 +\\\n",
    "                    fatima_monthly_23 +\\\n",
    "                    trina_monthly_23) * 100\n"
   ]
  },
  {
   "cell_type": "code",
   "execution_count": 8,
   "id": "2b46899a",
   "metadata": {},
   "outputs": [
    {
     "data": {
      "text/plain": [
       "(25.0, 900, 1200)"
      ]
     },
     "execution_count": 8,
     "metadata": {},
     "output_type": "execute_result"
    }
   ],
   "source": [
    "## call it\n",
    "trina_share_23, alfred_monthly_23, fatima_monthly_23"
   ]
  },
  {
   "cell_type": "code",
   "execution_count": 9,
   "id": "e4c13f0c",
   "metadata": {},
   "outputs": [
    {
     "name": "stdout",
     "output_type": "stream",
     "text": [
      "hello world\n"
     ]
    }
   ],
   "source": [
    "## print function\n",
    "print(\"hello world\")"
   ]
  },
  {
   "cell_type": "code",
   "execution_count": 12,
   "id": "9cda1622",
   "metadata": {},
   "outputs": [
    {
     "name": "stdout",
     "output_type": "stream",
     "text": [
      "900\n",
      "700\n",
      "1200 900\n"
     ]
    }
   ],
   "source": [
    "## print variables\n",
    "print(alfred_monthly_23)\n",
    "print(trina_m)\n",
    "print(fatima_m, alfred_m)\n"
   ]
  },
  {
   "cell_type": "code",
   "execution_count": 15,
   "id": "d9ab06b1",
   "metadata": {},
   "outputs": [
    {
     "name": "stdout",
     "output_type": "stream",
     "text": [
      "Trina's rent: $700\n",
      "Trina pays 25.0 percent of the total rent!\n"
     ]
    }
   ],
   "source": [
    "## using f-string\n",
    "## print total all the monthly rents plus totals using f-strings\n",
    "print(f\"Trina's rent: ${trina_monthly_23}\")\n",
    "print(f\"Trina pays {trina_share_23} percent of the total rent!\")"
   ]
  },
  {
   "cell_type": "code",
   "execution_count": 20,
   "id": "d6bc4f7b",
   "metadata": {},
   "outputs": [
    {
     "name": "stdout",
     "output_type": "stream",
     "text": [
      "The total monthly rent is $2,800 and Trina pays 25.0 percent of it.\n"
     ]
    }
   ],
   "source": [
    "## f-string also do calculations\n",
    "\n",
    "print(f\"The total monthly rent is \\\n",
    "${alfred_monthly_23 + fatima_monthly_23 + trina_monthly_23:,} \\\n",
    "and Trina pays {trina_share_23} percent of it.\")\n"
   ]
  },
  {
   "cell_type": "code",
   "execution_count": null,
   "id": "8984a7f3",
   "metadata": {},
   "outputs": [],
   "source": []
  }
 ],
 "metadata": {
  "kernelspec": {
   "display_name": "Python 3 (ipykernel)",
   "language": "python",
   "name": "python3"
  },
  "language_info": {
   "codemirror_mode": {
    "name": "ipython",
    "version": 3
   },
   "file_extension": ".py",
   "mimetype": "text/x-python",
   "name": "python",
   "nbconvert_exporter": "python",
   "pygments_lexer": "ipython3",
   "version": "3.11.5"
  }
 },
 "nbformat": 4,
 "nbformat_minor": 5
}
